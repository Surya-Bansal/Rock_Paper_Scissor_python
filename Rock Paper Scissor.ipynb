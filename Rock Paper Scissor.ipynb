{
 "cells": [
  {
   "cell_type": "code",
   "execution_count": 1,
   "metadata": {},
   "outputs": [
    {
     "name": "stdout",
     "output_type": "stream",
     "text": [
      "Requirement already satisfied: termcolor in c:\\users\\surya.b\\appdata\\local\\programs\\python\\python37\\lib\\site-packages (1.1.0)\n"
     ]
    }
   ],
   "source": [
    "# installing dependencies\n",
    "\n",
    "! pip install termcolor"
   ]
  },
  {
   "cell_type": "code",
   "execution_count": 2,
   "metadata": {},
   "outputs": [],
   "source": [
    "import random\n",
    "from termcolor import colored, cprint"
   ]
  },
  {
   "cell_type": "code",
   "execution_count": 3,
   "metadata": {},
   "outputs": [
    {
     "name": "stdout",
     "output_type": "stream",
     "text": [
      "\u001b[4m\u001b[40m\u001b[31m\n",
      " WELCOME TO ROCK, PAPER, SCISSOR CHALLENGE \u001b[0m\n",
      "\u001b[4m\u001b[34m\n",
      "Here are the rules:\u001b[0m\n",
      "\u001b[30m\n",
      "1. Enter the number of points needed to win this game.\n",
      "2. In each round you'll be asked to enter your option first.\n",
      "3. You can enter 'Rock', 'Paper' or 'Scissor' (not case sensative).\n",
      "4. In case of wrong input, you'll be asked again to input.\n",
      "5. If you forfiet the game, the computer wins. In case you've score more points then th result becomes 'Inconclusive'.\n",
      "\u001b[0m\n",
      "\u001b[31mYou can forefiet the game by enter 'Exit' (Computer wins if it had more points otherwise its a draw!)\u001b[0m\n"
     ]
    }
   ],
   "source": [
    "cprint('\\n WELCOME TO ROCK, PAPER, SCISSOR CHALLENGE ', 'red', 'on_grey', attrs=['underline'])\n",
    "cprint('\\nHere are the rules:', 'blue',attrs = ['underline'])\n",
    "\n",
    "rules=('''\\n1. Enter the number of points needed to win this game.\n",
    "2. In each round you'll be asked to enter your option first.\n",
    "3. You can enter 'Rock', 'Paper' or 'Scissor' (not case sensative).\n",
    "4. In case of wrong input, you'll be asked again to input.\n",
    "5. If you forfiet the game, the computer wins. In case you've score more points then th result becomes 'Inconclusive'.\n",
    "''')\n",
    "cprint(rules,'grey')\n",
    "cprint(\"You can forefiet the game by enter 'Exit' (Computer wins if it had more points otherwise its a draw!)\", 'red')"
   ]
  },
  {
   "cell_type": "code",
   "execution_count": 4,
   "metadata": {},
   "outputs": [],
   "source": [
    "# Pythonic alternate to traditional switch case method in C/C++/java: \n",
    "# user choices\n",
    "def switch(argument):\n",
    "    choices = {\n",
    "        \"rock\"    :1,\n",
    "        \"paper\"   :2,\n",
    "        \"scissor\" :3,\n",
    "        \"exit\"    :0\n",
    "    }\n",
    "    return (choices.get(argument, \"Invalid Input, enter again!\"))\n",
    "\n",
    "# computer's choices\n",
    "c_choice=[1,2,3]"
   ]
  },
  {
   "cell_type": "code",
   "execution_count": 5,
   "metadata": {},
   "outputs": [
    {
     "name": "stdout",
     "output_type": "stream",
     "text": [
      "\n",
      "\n",
      "Enter number of points needed to win this game: 1\n",
      "\u001b[32m\n",
      "Round # \u001b[0m 1\n",
      "\n",
      "\tRock / Paper / Scissor : rock\n",
      "\u001b[34m\tHuman Wins this round!\u001b[0m\n",
      "\n",
      "Score:- Computer: 0\tHuman: 1\n",
      "\n",
      "\u001b[41m\u001b[34m\n",
      " HUMAN WINS! \u001b[0m\n"
     ]
    }
   ],
   "source": [
    "points=int(input(\"\\n\\nEnter number of points needed to win this game: \"))\n",
    "\n",
    "text=colored('\\n\\tRock / Paper / Scissor : ', 'green')\n",
    "\n",
    "c_score=0        # computer's score count\n",
    "p_score=0        # human's score count\n",
    "i=1              # rounds count\n",
    "\n",
    "while(True):\n",
    "    t_text=colored(\"\\nRound # \",'green')\n",
    "    print(t_text,i)\n",
    "    response=input(text)\n",
    "    r=switch(response.lower())\n",
    "    \n",
    "    if r != 'Invalid Input, enter again!':\n",
    "        i+= 1\n",
    "        c=random.choice(c_choice)\n",
    "        if (r==1 and c==2) or (r==2 and c==3) or (r==3 and c==1):\n",
    "            c_score+= 1\n",
    "            cprint('\\tComputer Wins this round!','red')\n",
    "            print('\\nScore:- Computer: %d\\tHuman: %d\\n' % (c_score,p_score))\n",
    "            \n",
    "            if (c_score==points):\n",
    "                cprint(\"\\n COMPUTER nEVER WINS! \",'red','on_yellow')\n",
    "                break\n",
    "                \n",
    "        elif r==c:\n",
    "            print('\\tDraw.\\nScore:- Computer: %d\\tHuman: %d\\n' % (c_score,p_score))\n",
    "            \n",
    "        elif r==0:\n",
    "            if(c_score>p_score):\n",
    "                cprint('\\nComputer Wins!','red','on_yellow')\n",
    "            else:\n",
    "                cprint('\\nIt\\'s a Draw!','red', 'on_yellow')\n",
    "            print(\"Bye Bye\")\n",
    "            break\n",
    "        \n",
    "        else:\n",
    "            p_score+= 1\n",
    "            cprint('\\tHuman Wins this round!','blue')\n",
    "            print('\\nScore:- Computer: %d\\tHuman: %d\\n' % (c_score,p_score))\n",
    "            \n",
    "            if (p_score==points):\n",
    "                cprint(\"\\n HUMAN WINS! \",'blue','on_red')\n",
    "                break\n",
    "    else:\n",
    "        print(r)        #error message on wrong input"
   ]
  },
  {
   "cell_type": "code",
   "execution_count": null,
   "metadata": {},
   "outputs": [],
   "source": []
  }
 ],
 "metadata": {
  "kernelspec": {
   "display_name": "Python 3",
   "language": "python",
   "name": "python3"
  },
  "language_info": {
   "codemirror_mode": {
    "name": "ipython",
    "version": 3
   },
   "file_extension": ".py",
   "mimetype": "text/x-python",
   "name": "python",
   "nbconvert_exporter": "python",
   "pygments_lexer": "ipython3",
   "version": "3.7.3"
  }
 },
 "nbformat": 4,
 "nbformat_minor": 2
}
